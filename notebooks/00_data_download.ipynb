{
 "cells": [
  {
   "cell_type": "markdown",
   "metadata": {},
   "source": [
    "# MotoGP Data Download\n",
    "\n",
    "This notebook downloads MotoGP datasets from GitHub and saves them to the `/data/raw` directory."
   ]
  },
  {
   "cell_type": "code",
   "execution_count": 1,
   "metadata": {},
   "outputs": [],
   "source": [
    "import requests\n",
    "import pandas as pd\n",
    "import os\n",
    "from pathlib import Path"
   ]
  },
  {
   "cell_type": "code",
   "execution_count": 2,
   "metadata": {},
   "outputs": [
    {
     "name": "stdout",
     "output_type": "stream",
     "text": [
      "Configuration:\n",
      "  URLs file: ../docs/data_urls.txt\n",
      "  Output directory: ../data/raw\n"
     ]
    }
   ],
   "source": [
    "# Configuration - Edit paths here as needed\n",
    "DATA_URLS_FILE = '../docs/data_urls.txt'  # Path to file containing dataset URLs\n",
    "OUTPUT_DIR = '../data/raw'           # Directory to save downloaded files\n",
    "\n",
    "print(f\"Configuration:\")\n",
    "print(f\"  URLs file: {DATA_URLS_FILE}\")\n",
    "print(f\"  Output directory: {OUTPUT_DIR}\")"
   ]
  },
  {
   "cell_type": "code",
   "execution_count": null,
   "metadata": {},
   "outputs": [
    {
     "name": "stdout",
     "output_type": "stream",
     "text": [
      "Loading URLs from configured file...\n",
      "✓ Loaded: constructure-world-championship.csv\n",
      "✓ Loaded: grand-prix-events-held.csv\n",
      "✓ Loaded: grand-prix-race-winners.csv\n",
      "✓ Loaded: riders-finishing-positions.csv\n",
      "✓ Loaded: riders-info.csv\n",
      "✓ Loaded: same-nation-podium-lockouts.csv\n",
      "\n",
      "Total URLs loaded: 6\n",
      "\n",
      "Ready to download 6 datasets:\n",
      "  - constructure-world-championship.csv\n",
      "  - grand-prix-events-held.csv\n",
      "  - grand-prix-race-winners.csv\n",
      "  - riders-finishing-positions.csv\n",
      "  - riders-info.csv\n",
      "  - same-nation-podium-lockouts.csv\n"
     ]
    }
   ],
   "source": [
    "def load_urls_from_file(file_path=None):\n",
    "    \"\"\"\n",
    "    Load URLs from data_urls.txt file and extract filenames\n",
    "    \"\"\"\n",
    "    if file_path is None:\n",
    "        file_path = DATA_URLS_FILE\n",
    "        \n",
    "    urls = {}\n",
    "    \n",
    "    try:\n",
    "        with open(file_path, 'r', encoding='utf-8') as f:\n",
    "            for line_num, line in enumerate(f, 1):\n",
    "                line = line.strip()\n",
    "                if line and line.startswith('http'):\n",
    "                    # Extract filename from URL\n",
    "                    filename = line.split('/')[-1]\n",
    "                    urls[filename] = line\n",
    "                    print(f\"✓ Loaded: {filename}\")\n",
    "                elif line:\n",
    "                    print(f\"⚠ Skipped line {line_num}: Not a valid URL\")\n",
    "        \n",
    "        print(f\"\\nTotal URLs loaded: {len(urls)}\")\n",
    "        return urls\n",
    "        \n",
    "    except FileNotFoundError:\n",
    "        print(f\"Error: Could not find {file_path}\")\n",
    "        return {}\n",
    "    except Exception as e:\n",
    "        print(f\"Error reading file: {e}\")\n",
    "        return {}\n",
    "\n",
    "# Load dataset URLs dynamically from configured file\n",
    "print(\"Loading URLs from configured file...\")\n",
    "urls = load_urls_from_file()\n",
    "\n",
    "if not urls:\n",
    "    print(\"No URLs loaded. Please check the data file path in configuration.\")\n",
    "else:\n",
    "    print(f\"\\nReady to download {len(urls)} datasets:\")\n",
    "    for filename in urls.keys():\n",
    "        print(f\"  - {filename}\")"
   ]
  },
  {
   "cell_type": "code",
   "execution_count": 4,
   "metadata": {},
   "outputs": [
    {
     "name": "stdout",
     "output_type": "stream",
     "text": [
      "Configured path: ../data/raw\n",
      "Resolved path: /Users/diogosilva/Developer/Projects/motogp-analytics/data/raw\n",
      "Directory exists: True\n"
     ]
    }
   ],
   "source": [
    "# Ensure output directory exists\n",
    "data_dir = Path(OUTPUT_DIR)\n",
    "data_dir.mkdir(parents=True, exist_ok=True)\n",
    "\n",
    "# Show both configured and resolved paths for clarity\n",
    "print(f\"Configured path: {OUTPUT_DIR}\")\n",
    "print(f\"Resolved path: {data_dir.resolve()}\")\n",
    "print(f\"Directory exists: {data_dir.exists()}\")"
   ]
  },
  {
   "cell_type": "code",
   "execution_count": 5,
   "metadata": {},
   "outputs": [],
   "source": [
    "def download_csv(filename, url, data_dir):\n",
    "    \"\"\"\n",
    "    Download CSV file from URL and save to data directory\n",
    "    \"\"\"\n",
    "    filepath = data_dir / filename\n",
    "    \n",
    "    try:\n",
    "        print(f\"Downloading {filename}...\")\n",
    "        response = requests.get(url)\n",
    "        response.raise_for_status()  # Raises an HTTPError for bad responses\n",
    "        \n",
    "        with open(filepath, 'w', encoding='utf-8') as f:\n",
    "            f.write(response.text)\n",
    "        \n",
    "        print(f\"✓ Successfully downloaded {filename}\")\n",
    "        return True\n",
    "        \n",
    "    except requests.exceptions.RequestException as e:\n",
    "        print(f\"✗ Error downloading {filename}: {e}\")\n",
    "        return False\n",
    "    except Exception as e:\n",
    "        print(f\"✗ Unexpected error with {filename}: {e}\")\n",
    "        return False"
   ]
  },
  {
   "cell_type": "code",
   "execution_count": 6,
   "metadata": {},
   "outputs": [
    {
     "name": "stdout",
     "output_type": "stream",
     "text": [
      "Starting download process...\n",
      "\n",
      "Downloading constructure-world-championship.csv...\n",
      "✓ Successfully downloaded constructure-world-championship.csv\n",
      "\n",
      "Downloading grand-prix-events-held.csv...\n",
      "✓ Successfully downloaded grand-prix-events-held.csv\n",
      "\n",
      "Downloading grand-prix-race-winners.csv...\n",
      "✓ Successfully downloaded grand-prix-race-winners.csv\n",
      "\n",
      "Downloading riders-finishing-positions.csv...\n",
      "✓ Successfully downloaded riders-finishing-positions.csv\n",
      "\n",
      "Downloading riders-info.csv...\n",
      "✓ Successfully downloaded riders-info.csv\n",
      "\n",
      "Downloading same-nation-podium-lockouts.csv...\n",
      "✓ Successfully downloaded same-nation-podium-lockouts.csv\n",
      "\n",
      "Download summary:\n",
      "✓ Successful: 6/6\n"
     ]
    }
   ],
   "source": [
    "# Download all datasets\n",
    "print(\"Starting download process...\\n\")\n",
    "\n",
    "successful_downloads = []\n",
    "failed_downloads = []\n",
    "\n",
    "for filename, url in urls.items():\n",
    "    if download_csv(filename, url, data_dir):\n",
    "        successful_downloads.append(filename)\n",
    "    else:\n",
    "        failed_downloads.append(filename)\n",
    "    print()  # Empty line for readability\n",
    "\n",
    "print(f\"Download summary:\")\n",
    "print(f\"✓ Successful: {len(successful_downloads)}/{len(urls)}\")\n",
    "if failed_downloads:\n",
    "    print(f\"✗ Failed: {failed_downloads}\")"
   ]
  },
  {
   "cell_type": "code",
   "execution_count": null,
   "metadata": {},
   "outputs": [],
   "source": [
    "print(\"\\nData download completed!\")\n",
    "print(f\"Files saved to: {data_dir.resolve()}\")\n",
    "\n",
    "# Show actual files in directory\n",
    "if data_dir.exists():\n",
    "    files = list(data_dir.glob(\"*.csv\"))\n",
    "    if files:\n",
    "        print(f\"Files in directory ({len(files)}):\")\n",
    "        for file in sorted(files):\n",
    "            print(f\"  - {file.name}\")\n",
    "    else:\n",
    "        print(\"No CSV files found in directory.\")"
   ]
  }
 ],
 "metadata": {
  "kernelspec": {
   "display_name": "motogp-analytics",
   "language": "python",
   "name": "python3"
  },
  "language_info": {
   "codemirror_mode": {
    "name": "ipython",
    "version": 3
   },
   "file_extension": ".py",
   "mimetype": "text/x-python",
   "name": "python",
   "nbconvert_exporter": "python",
   "pygments_lexer": "ipython3",
   "version": "3.11.13"
  }
 },
 "nbformat": 4,
 "nbformat_minor": 4
}
